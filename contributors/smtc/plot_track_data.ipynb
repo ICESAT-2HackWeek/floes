{
 "cells": [
  {
   "cell_type": "code",
   "execution_count": 11,
   "metadata": {},
   "outputs": [],
   "source": [
    "import hvplot.pandas # Enable 'hvplot' accessor on Geodataframes for interactive plotting\n",
    "from ipywidgets import Layout\n",
    "import h5py\n",
    "import pandas as pd\n",
    "import xarray as xr\n",
    "import numpy as np\n",
    "import matplotlib.pyplot as plt\n",
    "import leafmap.leafmap as leafmap\n",
    "import geopandas as gpd\n",
    "from ipyleaflet import Map, basemaps, ImageOverlay, projections, GeoJSON, GeoData, WMSLayer, Marker\n",
    "import odc.geo.xr\n",
    "import os"
   ]
  },
  {
   "cell_type": "code",
   "execution_count": 4,
   "metadata": {},
   "outputs": [],
   "source": [
    "path = '/g/data/jk72/sc0554/floes/icesat/'\n",
    "filelist = [file for file in os.listdir(path) if file.endswith('.h5')]"
   ]
  },
  {
   "cell_type": "code",
   "execution_count": 41,
   "metadata": {},
   "outputs": [
    {
     "name": "stdout",
     "output_type": "stream",
     "text": [
      "Processing 39 files\n",
      " Opening: ATL10-02_20211119110427_08861301_005_01.h5"
     ]
    }
   ],
   "source": [
    "gf_list = []\n",
    "print(f\"Processing {len(filelist)} files\")\n",
    "for fname in filelist:\n",
    "    print('\\r', 'Opening:', fname, end='')\n",
    "    for beam in ['gt1l','gt2l','gt3l','gt1r','gt2r','gt3r']:            \n",
    "        # Open dataset\n",
    "        ds = xr.open_dataset(path+fname, group=f'{beam}/freeboard_beam_segment/')\n",
    "        # Convert to dataframe\n",
    "        df = ds['beam_fb_height'].to_dataframe()\n",
    "        # Create spatial dataframe\n",
    "        gf = gpd.GeoDataFrame(df, geometry=gpd.points_from_xy(df.longitude, df.latitude), crs='epsg:7661')\n",
    "        # append to list\n",
    "        gf_list.append(gf)\n",
    "\n",
    "# Combine into a single file        \n",
    "gfs = pd.concat(gf_list)"
   ]
  },
  {
   "cell_type": "code",
   "execution_count": 42,
   "metadata": {},
   "outputs": [
    {
     "data": {
      "text/plain": [
       "<AxesSubplot:xlabel='latitude', ylabel='beam_fb_height'>"
      ]
     },
     "execution_count": 42,
     "metadata": {},
     "output_type": "execute_result"
    },
    {
     "data": {
      "image/png": "[encoded data removed]",
      "text/plain": [
       "<Figure size 432x288 with 1 Axes>"
      ]
     },
     "metadata": {
      "needs_background": "light"
     },
     "output_type": "display_data"
    }
   ],
   "source": [
    "# Test plot\n",
    "\n",
    "gf_list[0].plot.scatter('latitude', 'beam_fb_height')"
   ]
  },
  {
   "cell_type": "code",
   "execution_count": null,
   "metadata": {},
   "outputs": [],
   "source": [
    "# Write out to csv (can be loaded as delimited text file into qgis\n",
    "\n",
    "gfs.to_csv(\"/g/data/jk72/sc0554/floes/beam_fb_height.csv\")"
   ]
  },
  {
   "cell_type": "code",
   "execution_count": null,
   "metadata": {},
   "outputs": [],
   "source": [
    "from shapely.geometry import LineString\n",
    "df['line'] = df.apply(lambda row: LineString([row['fr_point'], row['to_point']]), axis=1) #Create a linestring column"
   ]
  },
  {
   "cell_type": "code",
   "execution_count": 43,
   "metadata": {},
   "outputs": [
    {
     "data": {
      "text/plain": [
       "<AxesSubplot:xlabel='delta_time'>"
      ]
     },
     "execution_count": 43,
     "metadata": {},
     "output_type": "execute_result"
    },
    {
     "data": {
      "image/png": "[encoded data removed]",
      "text/plain": [
       "<Figure size 432x288 with 1 Axes>"
      ]
     },
     "metadata": {
      "needs_background": "light"
     },
     "output_type": "display_data"
    }
   ],
   "source": [
    "gfs['longitude'].plot()"
   ]
  },
  {
   "cell_type": "code",
   "execution_count": 64,
   "metadata": {},
   "outputs": [],
   "source": [
    "filtered = gfs[(-60 < gfs.longitude) & (gfs.longitude < 0)]"
   ]
  },
  {
   "cell_type": "code",
   "execution_count": 65,
   "metadata": {},
   "outputs": [],
   "source": [
    "geo_data = GeoData(geo_dataframe = filtered,\n",
    "    style={'color': 'black', 'radius':4, 'fillColor': '#3366cc', 'opacity':0.5, 'weight':1.9, 'dashArray':'2', 'fillOpacity':0.6},\n",
    "    hover_style={'fillColor': 'red' , 'fillOpacity': 0.2},\n",
    "    point_style={'radius': 5, 'color': 'red', 'fillOpacity': 0.8, 'fillColor': 'blue', 'weight': 3},\n",
    "    name = 'ICESAT2')\n",
    "\n",
    "# Create custom projection with bounds for Polar view WMS layer\n",
    "POLAR3031 = dict(\n",
    "    name='EPSG:3031',\n",
    "    custom=True,\n",
    "    proj4def=\"\"\"+proj=stere +lat_0=-90 +lat_ts=-71 +lon_0=0 +k=1\n",
    "        +x_0=0 +y_0=0 +datum=WGS84 +units=m +no_defs\"\"\",\n",
    "    bounds =[[-2822131.5,-3057369.25],[3744213.75,3822194.25]]\n",
    ")\n",
    "\n",
    "graticule = WMSLayer(\n",
    "    url='http://geos.polarview.aq/geoserver/wms',\n",
    "    layers='polarview:graticuleS',\n",
    "    format='image/png',\n",
    "    transparent=True,\n",
    "    attribution='Polarview',\n",
    "    crs=POLAR3031\n",
    ")"
   ]
  },
  {
   "cell_type": "code",
   "execution_count": 66,
   "metadata": {},
   "outputs": [
    {
     "data": {
      "application/vnd.jupyter.widget-view+json": {
       "model_id": "8a7227250f5348b2867ea9933249cb10",
       "version_major": 2,
       "version_minor": 0
      },
      "text/plain": [
       "Map(center=[-90, 0], controls=(ZoomControl(options=['position', 'zoom_in_text', 'zoom_in_title', 'zoom_out_tex…"
      ]
     },
     "metadata": {},
     "output_type": "display_data"
    }
   ],
   "source": [
    "# Create map layer\n",
    "spsLayout=Layout(width='800px', height='800px')\n",
    "m = Map(basemap=basemaps.NASAGIBS.BlueMarble3031, center=(-90, 0), zoom=1, crs=projections.EPSG3031, layout=spsLayout)\n",
    "m.add_layer(geo_data)\n",
    "m.add_layer(graticule)\n",
    "m"
   ]
  },
  {
   "cell_type": "code",
   "execution_count": null,
   "metadata": {},
   "outputs": [],
   "source": []
  }
 ],
 "metadata": {
  "kernelspec": {
   "display_name": "Python 3 (ipykernel)",
   "language": "python",
   "name": "python3"
  },
  "language_info": {
   "codemirror_mode": {
    "name": "ipython",
    "version": 3
   },
   "file_extension": ".py",
   "mimetype": "text/x-python",
   "name": "python",
   "nbconvert_exporter": "python",
   "pygments_lexer": "ipython3",
   "version": "3.9.2"
  }
 },
 "nbformat": 4,
 "nbformat_minor": 4
}
