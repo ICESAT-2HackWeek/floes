{
 "cells": [
  {
   "cell_type": "code",
   "execution_count": null,
   "id": "61a1d46a-5f13-4a14-a255-b643a396d1d7",
   "metadata": {},
   "outputs": [],
   "source": [
    "import icepyx as ipx\n",
    "%matplotlib inline"
   ]
  },
  {
   "cell_type": "code",
   "execution_count": null,
   "id": "06051a1e-796d-404a-ab08-e8309945b49e",
   "metadata": {},
   "outputs": [],
   "source": [
    "short_name = 'ATL07'\n",
    "spatial_extent = [-55, 68, -48, 71]\n",
    "date_range = ['2019-02-20','2019-02-28']\n",
    "\n",
    "reg_a = ipx.Query(short_name, spatial_extent, date_range)"
   ]
  },
  {
   "cell_type": "code",
   "execution_count": null,
   "id": "2db261cc-aacb-40ca-bc3b-f1ccdef74f1f",
   "metadata": {},
   "outputs": [],
   "source": [
    "reg_a.visualize_spatial_extent()"
   ]
  },
  {
   "cell_type": "code",
   "execution_count": null,
   "id": "559a89df-d6fd-4b82-aded-1f7ad8de03ac",
   "metadata": {},
   "outputs": [],
   "source": [
    "reg_a.product_summary_info()"
   ]
  },
  {
   "cell_type": "code",
   "execution_count": null,
   "id": "66254bd8-cc83-4894-a6b1-38e5952f17de",
   "metadata": {},
   "outputs": [],
   "source": [
    "earthdata_uid = 'smtc'\n",
    "email = 'sean.m.t.chua@gmail.com'\n",
    "reg_a.earthdata_login(earthdata_uid, email)"
   ]
  },
  {
   "cell_type": "code",
   "execution_count": null,
   "id": "239ca687-f383-4048-b59e-b0f0ae409b33",
   "metadata": {},
   "outputs": [],
   "source": [
    "path = '/tmp/dataaccess/'\n",
    "reg_a.download_granules(path)\n",
    "! ls /tmp/dataaccess"
   ]
  }
 ],
 "metadata": {
  "kernelspec": {
   "display_name": "Python 3 (ipykernel)",
   "language": "python",
   "name": "python3"
  },
  "language_info": {
   "codemirror_mode": {
    "name": "ipython",
    "version": 3
   },
   "file_extension": ".py",
   "mimetype": "text/x-python",
   "name": "python",
   "nbconvert_exporter": "python",
   "pygments_lexer": "ipython3",
   "version": "3.9.10"
  }
 },
 "nbformat": 4,
 "nbformat_minor": 5
}
